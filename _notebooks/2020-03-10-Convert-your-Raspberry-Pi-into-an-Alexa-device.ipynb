{
  "nbformat": 4,
  "nbformat_minor": 0,
  "metadata": {
    "colab": {
      "name": "Convert your Raspberry Pi into an Alexa device",
      "provenance": [],
      "authorship_tag": "ABX9TyOu1rRilFPu0Gq7Ax4FzcDU"
    },
    "kernelspec": {
      "name": "python3",
      "display_name": "Python 3"
    }
  },
  "cells": [
    {
      "cell_type": "markdown",
      "metadata": {
        "id": "kN66drK5xdZF"
      },
      "source": [
        "# Convert your Raspberry Pi into an Alexa device\n",
        "> Install Alexa Voice Services SDK on Raspberry Pi and Provision the device under an Amazon account\n",
        "\n",
        "- toc: false \n",
        "- badges: false\n",
        "- comments: false\n",
        "- categories: [Alexa Voice Services, Alexa, Raspberry Pi, nodejs]\n",
        "- image: images/avs-small.png\n",
        "\n"
      ]
    },
    {
      "cell_type": "code",
      "metadata": {
        "id": "I3HqeTSDxHyr"
      },
      "source": [
        "\n",
        "## Converting your Raspberry Pi into an Alexa device using Alexa Voice Service SDK\n",
        "\n",
        " \n",
        "\n",
        "Back in 2017 , my company was working on a product that embedded Amazon Alexa Voice Service (AVS) on device and my team was involved in the onboarding solution for the device. \n",
        "\n",
        "In order to better understand the use cases, I installed Amazon Alexa Voice Service SDK on a Raspberry Pi . \n",
        "\n",
        "Here is a video of a short interaction with Alexa Voice Service installed on Raspberry Pi\n",
        "\n",
        "<iframe width=\"853\" height=\"480\" src=\"https://www.youtube.com/embed/bajws_5RN8M\" frameborder=\"0\" allow=\"accelerometer; autoplay; clipboard-write; encrypted-media; gyroscope; picture-in-picture\" allowfullscreen></iframe>\n",
        "\n",
        "If you are interested in creating an Alexa device on Raspberry pi please follow the latest instructions using this link\n",
        "\n",
        " https://developer.amazon.com/en-US/docs/alexa/avs-device-sdk/raspberry-pi.html\n",
        "\n",
        "**Provisioning an AVS device under your Amazon Account**\n",
        "\n",
        "If you are distributing such custom devices, you need to provide a way for the user to onboard Alexa under their Amazon account. I built a POC for this provisioning flow using Nodejs (and also a Java version). Here are the steps involved.\n",
        "\n",
        " \n",
        "\n",
        "\\1.    Create a developer account under Amazon if you don’t already have one.\n",
        "\n",
        "\\2.    Browse to https://developer.amazon.com/alexa/console/avs/products\n",
        "\n",
        "\\3.    Click on Add New Product \n",
        "\n",
        "\\4.    Fill up the information regarding your device. Give it a Product Name and Product ID\n",
        "\n",
        "Here are the other options I chose for my device \n",
        "\n",
        "![img1](https://raw.githubusercontent.com/ravindrabharathi/blog/master/images/avs-selection1.png)\n",
        "\n",
        "![img2](https://raw.githubusercontent.com/ravindrabharathi/blog/master/images/avs-selection2.png)\n",
        "\n",
        " \n",
        "\n",
        " \n",
        "\n",
        "\\5.    Save the product details \n",
        "\n",
        "\\6.    Choose Security Profile and select create new profile .\n",
        "\n",
        "\\7.    Fill up the option for security profile name and description and click Next .\n",
        "\n",
        "\\8.    The rest of the information like Profile ID, Client ID and Client secret are now automatically filled up for you .\n",
        "\n",
        "\\9.    I kept the options to just Web based flow but you may choose to add Android and iOS app integration (as we did in the final product) \n",
        "\n",
        "\\10.  Fill up the allowed origin and callback URL details. Callback URl is the address of the page to which Amazon authorization service will redirect to with the result of User authorization . This is the service or page that needs to handle the authorization response.\n",
        "\n",
        " \n",
        "\n",
        "**AVS Device Provisioning App flow** \n",
        "\n",
        " \n",
        "\n",
        "This is how the flow looks like \n",
        "\n",
        " \n",
        "\n",
        " \n",
        "\n",
        "![avs-flow](https://raw.githubusercontent.com/ravindrabharathi/blog/master/images/avs-flow2.png)\n",
        "\n",
        " \n",
        "\n",
        "The code for this App flow can be found under this repository https://github.com/ravindrabharathi/AVS-provisioning-nodejs . \n",
        "\n",
        "Although I have not updated the code for recent version of dependency libraries, the code still works as the screenshots above are recent. I’ll follow up with another post explaining the code structure and important parts that handle authorization, provisioning of device, etc "
      ],
      "execution_count": null,
      "outputs": []
    }
  ]
}